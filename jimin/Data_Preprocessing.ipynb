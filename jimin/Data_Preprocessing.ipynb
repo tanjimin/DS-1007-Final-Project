{
 "cells": [
  {
   "cell_type": "code",
   "execution_count": 1,
   "metadata": {},
   "outputs": [],
   "source": [
    "import numpy as np\n",
    "import pandas as pd\n",
    "import pickle as pkl\n",
    "import operator\n",
    "import numbers"
   ]
  },
  {
   "cell_type": "code",
   "execution_count": 2,
   "metadata": {},
   "outputs": [
    {
     "name": "stderr",
     "output_type": "stream",
     "text": [
      "/anaconda3/envs/NLP/lib/python3.7/site-packages/IPython/core/interactiveshell.py:3020: DtypeWarning: Columns (6,9,987,988,989,990,991,992,993,994,995,996,997,998,999,1000,1001,1002,1003,1004,1005,1006,1008,1009,1010,1011,1014,1015,1016,1017,1018,1019,1021,1022,1023,1027,1028,1029,1030,1031,1032,1034,1035,1036,1040,1041,1042,1043,1044,1045,1046,1047,1048,1049,1050,1053,1054,1055,1056,1057,1058,1059,1060,1061,1062,1063,1065,1066,1067,1068,1069,1070,1071,1073,1074,1075,1076,1078,1079,1080,1081,1082,1083,1084,1086,1087,1088,1089,1091,1092,1093,1094,1095,1096,1097,1099,1100,1101,1102,1104,1105,1106,1107,1108,1109,1110,1112,1113,1114,1115,1118,1119,1121,1122,1123,1125,1127,1128,1131,1132,1134,1135,1136,1138,1140,1141,1144,1145,1146,1147,1148,1149,1150,1151,1152,1153,1154,1157,1158,1159,1160,1161,1162,1163,1164,1165,1166,1167,1170,1171,1172,1173,1174,1175,1177,1178,1179,1180,1183,1184,1185,1186,1187,1188,1190,1192,1196,1199,1200,1201,1209,1212,1213,1214,1222,1223,1224,1225,1226,1227,1235,1236,1237,1238,1239,1240,1248,1249,1250,1251,1252,1253,1257,1261,1262,1263,1264,1265,1266,1270,1274,1275,1276,1277,1278,1279,1281,1283,1287,1288,1289,1290,1291,1292,1294,1296,1303,1309,1316,1322,1326,1327,1328,1329,1330,1331,1333,1335,1339,1340,1341,1342,1343,1344,1346,1348,1379,1380,1381,1382,1383,1384,1385,1386,1387,1388,1389,1390,1391,1392,1393,1394,1395,1396,1397,1398,1399,1400,1401,1402,1403,1404,1405,1406,1407,1408,1431,1432,1433,1475,1476,1477,1478,1479,1480,1481,1482,1483,1484,1485,1486,1487,1488,1489,1490,1491,1492,1493,1494,1495,1496,1497,1498,1499,1500,1501,1502,1503,1504,1517,1518,1519,1529,1530,1531,1532,1534,1535,1537,1538,1539,1540,1542,1575,1576,1577,1578,1579,1580,1581,1582,1583,1584,1585,1586,1587,1588,1589,1590,1591,1592,1593,1594,1595,1596,1597,1598,1599,1600,1601,1602,1606,1608,1610,1611,1614,1615,1616,1619,1620,1621,1622,1623,1624,1625,1626,1627,1628,1629,1636,1637,1638,1639,1640,1641,1642,1643,1644,1645,1646,1647,1648,1649,1650,1651,1652,1653,1654,1655,1656,1657,1658,1659,1660,1661,1662,1663,1664,1665,1666,1667,1668,1669,1670,1671,1672,1673,1674,1675,1676,1677,1678,1679,1680,1681,1682,1683,1684,1685,1686,1687,1688,1689,1690,1691,1692,1693,1694,1695,1696,1697,1698,1699,1700,1701,1702,1703,1704,1705,1706,1707,1708,1725,1726,1727,1728,1729,1743,1815,1816,1817,1818,1823,1824,1830,1831,1844,1845,1846,1879,1880,1881,1882,1883,1884,1885,1886,1887,1888,1889,1890,1891,1892,1893,1894,1895,1896,1897,1898) have mixed types. Specify dtype option on import or set low_memory=False.\n",
      "  interactivity=interactivity, compiler=compiler, result=result)\n"
     ]
    }
   ],
   "source": [
    "full_data = pd.read_csv('../../../Data/07_FinalProject/Most-Recent-Cohorts-All-Data-Elements.csv')"
   ]
  },
  {
   "cell_type": "code",
   "execution_count": 3,
   "metadata": {},
   "outputs": [],
   "source": [
    "def normalizeColumn(column, data):\n",
    "    if isinstance(data[column][0], numbers.Number):\n",
    "        return [float(i)/sum(data[column].values) for i in data[column].values]\n",
    "    else:\n",
    "        return data[column]\n",
    "\n",
    "def normalizeData(data):\n",
    "    for column in data.columns:\n",
    "        data[column] = normalizeColumn(column, data)\n",
    "    return data\n",
    "\n",
    "def cleanColumn(column, data):\n",
    "    if type(data[column][0]) == type('.'):\n",
    "        data[column][data[column] == 'PrivacySuppressed'] = np.nan\n",
    "    return data[column]\n",
    "\n",
    "def cleanData(data):\n",
    "    for column in data.columns:\n",
    "        data[column] = cleanColumn(column, data)\n",
    "    return data\n",
    "\n",
    "def imputeValue(column, data):\n",
    "    column_data = pd.to_numeric(data[column])\n",
    "    column_mean = column_data.mean()\n",
    "    for i, row in enumerate(column_data):\n",
    "        if np.isnan(row):\n",
    "            column_data.iloc[i] = column_mean\n",
    "    return column_data\n",
    "\n",
    "def imputeNumeric(columns, data):\n",
    "    for column in columns:\n",
    "        data[column] = imputeValue(column, data)\n",
    "    return data\n",
    "\n",
    "def processCategorical(columns, data):\n",
    "    for column in columns:\n",
    "        data[column] = data[column].astype('category')\n",
    "    return data"
   ]
  },
  {
   "cell_type": "code",
   "execution_count": 4,
   "metadata": {},
   "outputs": [],
   "source": [
    "def calculateCostEarning(data):\n",
    "    cost_a = list(data['COSTT4_A'])\n",
    "    cost_p = list(data['COSTT4_P'])\n",
    "    cost = []\n",
    "    for i in range(len(cost_a)):\n",
    "        if not np.isnan(cost_a[i]):\n",
    "            if not np.isnan(cost_p[i]):\n",
    "                raise Exception('No school is like this')\n",
    "            cost.append(cost_a[i])\n",
    "        else:\n",
    "            cost.append(cost_p[i])\n",
    "    earning = data['MD_EARN_WNE_P6'] \n",
    "    return pd.DataFrame({'cost':cost, 'earning':earning})\n",
    "\n",
    "def calculateC100(data):\n",
    "    target_C100 = []\n",
    "    C100_4 = data['C100_4']\n",
    "    C100_L4 = data['C100_L4']\n",
    "    data = data.drop(['C100_4', 'C100_L4'], 1)\n",
    "    for i in range(len(C100_4)):\n",
    "        if not np.isnan(C100_4[i]):\n",
    "            if not np.isnan(C100_L4[i]):\n",
    "                raise Exception('No school is like this')\n",
    "            target_C100.append(C100_4[i])\n",
    "        else:\n",
    "            target_C100.append(C100_L4[i])\n",
    "    data['C100_4'] = target_C100\n",
    "    return data\n",
    "\n",
    "def fillMean(data):\n",
    "    data['AVGFACSAL'].fillna((data['AVGFACSAL'].mean()), inplace=True)\n",
    "    data['UG'].fillna((data['UG'].mean()), inplace=True)\n",
    "    data['PFTFAC'].fillna((data['PFTFAC'].mean()), inplace=True)\n",
    "    data['UGDS_MEN'].fillna((data['UGDS_MEN'].mean()), inplace=True)\n",
    "    data['UGDS_WOMEN'].fillna((data['UGDS_WOMEN'].mean()), inplace=True)\n",
    "    return data\n",
    "\n",
    "def fillIncome(data):\n",
    "    income = {1: 44765, 2:73355, 4: 51492, 5: 41995, 6:64500, 8:63909, 9:71346,\n",
    "              10:61255, 11:75628,12: 49426, 13: 51244, 15: 73486, 16: 48275, \n",
    "              17:59588, 18: 50532, 19:54736, 20: 53906, 21: 45215, 22:45727,\n",
    "             23:51494, 24:75847, 25:70628 , 26:51084, 27:63488,\n",
    "             28: 40593, 29:50238, 30:49509, 31:54996, 32:52431,\n",
    "             33: 70303, 34:72222, 35: 45382, 36:60850, 37:47830,\n",
    "             38: 60577, 39:51075, 40:48568, 41:54148, 42:55702,\n",
    "             44: 58073, 45:47238, 46: 53017, 47: 47275, 48:55653,\n",
    "             49: 62912, 50: 56990, 51: 66262, 53:64129, 54:42019,\n",
    "             55: 55638, 56: 60214}\n",
    "    data['ST_FIPS'] = data['ST_FIPS'].astype(float)\n",
    "    data['MEDIAN_HH_INC'].fillna(data.ST_FIPS.map(income), inplace=True)\n",
    "    data['MEDIAN_HH_INC'] = data['MEDIAN_HH_INC'].astype(float)\n",
    "    data['MEDIAN_HH_INC'].fillna(data['MEDIAN_HH_INC'].mean(), inplace=True)\n",
    "    return data\n",
    "\n",
    "##HISP: Hispanic students rose from 4 percent to 17 percent \n",
    "# API: Asian/Pacific Islander students rose from 2 percent to 7 percent\n",
    "# Black: The percentage of Black students increased from 10 percent in 1976 to 14 percent in 2015\n",
    "# White: 58%\n",
    "def fillRace(data):\n",
    "    data['UG_NRA'].fillna(0.01, inplace=True)\n",
    "    data['UG_WHITENH'].fillna(0.58, inplace=True)\n",
    "    data['UG_BLACKNH'].fillna(0.14, inplace=True)\n",
    "    data['UG_API'].fillna(0.035, inplace=True)\n",
    "    data['UG_AIANOLD'].fillna(0.035, inplace=True)\n",
    "    data['UG_HISPOLD'].fillna(0.17, inplace=True)\n",
    "    data['UG_UNKN'].fillna((1 - data['UG_NRA'] - \n",
    "                                data['UG_WHITENH'] - \n",
    "                                data['UG_BLACKNH'] - \n",
    "                                data['UG_API'] - \n",
    "                                data['UG_AIANOLD'] - \n",
    "                                data['UG_HISPOLD']),inplace=True)\n",
    "    return data\n",
    "\n",
    "def fillUnemp(data):\n",
    "    unemp = {1: 3.8, 2:7.3, 4: 4.9, 5: 3.8, 6:4.3, 8:3.0, 9:4.5, \n",
    "             10:4.3, 11:5.6,12: 3.9, 13: 4.4, 15: 2.1, 16: 2.9, 17:4.6, \n",
    "             18: 3.2, 19:2.8, 20: 3.4, 21: 4.0, 22:4.4,\n",
    "             23:2.7, 24:4.3, 25:3.5 , 26:4.7, 27:3.2,\n",
    "             28: 4.5, 29:3.6, 30:4.1, 31:2.8, 32:4.9,\n",
    "             33: 2.6, 34:4.6, 35: 5.6, 36:4.6, 37:4.5,\n",
    "             38: 2.6, 39:4.4, 40:4.0, 41:4.1, 42:4.8,\n",
    "             44: 4.5, 45:4.4, 46: 3.4, 47: 3.4, 48:4.0,\n",
    "             49: 3.1, 50: 2.8, 51: 3.4, 53:4.8, 54:5.4,\n",
    "             55: 2.9, 56: 3.9, 60:18, 66:4.4, 69:11.2, 72:8.8, 78:9.2}\n",
    "    data['ST_FIPS'] = data['ST_FIPS'].astype(float)\n",
    "    data['UNEMP_RATE'].fillna(data.ST_FIPS.map(unemp), inplace=True)\n",
    "    data['UNEMP_RATE'] = data['UNEMP_RATE'].astype(float)\n",
    "    data['UNEMP_RATE'].fillna(data['UNEMP_RATE'].mean(), inplace=True)\n",
    "    return data\n",
    "\n",
    "def calculateROI(data):\n",
    "    data['cost'] = data['cost'].astype('int64')\n",
    "    data['earning'] = data['earning'].astype('int64')\n",
    "    data['ROI'] = (data['earning'])/data['cost']\n",
    "    data.drop(['cost', 'earning'], 1, inplace=True)\n",
    "    return data"
   ]
  },
  {
   "cell_type": "markdown",
   "metadata": {},
   "source": [
    "## Feature Selection"
   ]
  },
  {
   "cell_type": "code",
   "execution_count": null,
   "metadata": {},
   "outputs": [
    {
     "name": "stderr",
     "output_type": "stream",
     "text": [
      "/anaconda3/envs/NLP/lib/python3.7/site-packages/ipykernel_launcher.py:14: SettingWithCopyWarning: \n",
      "A value is trying to be set on a copy of a slice from a DataFrame\n",
      "\n",
      "See the caveats in the documentation: http://pandas.pydata.org/pandas-docs/stable/indexing.html#indexing-view-versus-copy\n",
      "  \n"
     ]
    }
   ],
   "source": [
    "features = []\n",
    "\n",
    "admin_features = ['ADM_RATE', 'SAT_AVG']\n",
    "#repay_features = ['COMPL_RPY_1YR_RT', 'COMPL_RPY_3YR_RT', 'COMPL_RPY_5YR_RT', 'COMPL_RPY_7YR_RT', 'RPY_1YR_N', 'RPY_3YR_N', 'RPY_5YR_N', 'RPY_7YR_N']\n",
    "complete_features = ['D100_4', 'D100_L4', 'C100_4', 'C100_L4']\n",
    "#aid_features = ['GRAD_DEBT_MDN_SUPP', 'DEBT_MDN_SUPP', 'CUML_DEBT_N', 'GRAD_DEBT_MDN', 'DEBT_N', 'GRAD_DEBT_N']\n",
    "root_features = ['LATITUDE', 'LONGITUDE']\n",
    "school_features = ['REGION', 'LOCALE', 'ACCREDAGENCY', 'SCH_DEG', 'MAIN', 'NUMBRANCH', \n",
    "                   'HIGHDEG', 'CONTROL', 'ST_FIPS', 'AVGFACSAL', 'PFTFAC','ICLEVEL']\n",
    "student_features = ['UG', 'UG_NRA', 'UG_UNKN', 'UG_WHITENH', 'UG_BLACKNH', 'UG_API', 'UG_AIANOLD', \n",
    "                    'UG_HISPOLD', 'APPL_SCH_PCT_GE2', 'APPL_SCH_PCT_GE3', 'APPL_SCH_PCT_GE4', 'APPL_SCH_PCT_GE5', \n",
    "                    'MEDIAN_HH_INC', 'UNEMP_RATE', 'UGDS_MEN', 'UGDS_WOMEN','UGNONDS','GRADS']\n",
    "\n",
    "features.extend(admin_features)\n",
    "#features.extend(repay_features)\n",
    "features.extend(complete_features)\n",
    "#features.extend(aid_features)\n",
    "features.extend(root_features)\n",
    "features.extend(school_features)\n",
    "features.extend(student_features)\n",
    "\n",
    "# We drop these variables because over 50% data in those variables are missing.\n",
    "features_drop = [#'ADM_RATE', 'SAT_AVG', 'RPY_1YR_N', 'RPY_3YR_N', 'RPY_5YR_N', 'RPY_7YR_N',\n",
    "                'D100_4', 'D100_L4', 'APPL_SCH_PCT_GE2', 'APPL_SCH_PCT_GE3', 'APPL_SCH_PCT_GE4', \n",
    "                 'APPL_SCH_PCT_GE5', 'UGNONDS','GRADS', 'ACCREDAGENCY',\n",
    "    #'GRAD_DEBT_MDN_SUPP', 'CUML_DEBT_N',  \n",
    "    'CONTROL'\n",
    "]\n",
    "\n",
    "data = full_data[features]\n",
    "data = data.drop(features_drop, 1)\n",
    "cost_earning_df = calculateCostEarning(full_data)\n",
    "data['cost'] = cost_earning_df['cost']\n",
    "data['earning'] = cost_earning_df['earning']\n",
    "data = cleanData(data)"
   ]
  },
  {
   "cell_type": "markdown",
   "metadata": {},
   "source": [
    "## Fill NA values"
   ]
  },
  {
   "cell_type": "code",
   "execution_count": null,
   "metadata": {},
   "outputs": [],
   "source": [
    "numeric_columns = [#'COMPL_RPY_1YR_RT', 'COMPL_RPY_3YR_RT', 'COMPL_RPY_5YR_RT','COMPL_RPY_7YR_RT', 'DEBT_MDN_SUPP', 'GRAD_DEBT_MDN', 'DEBT_N', 'GRAD_DEBT_N', \n",
    "    'LATITUDE', 'LONGITUDE', 'NUMBRANCH', 'C100_4']\n",
    "\n",
    "categorical_column = ['REGION', 'LOCALE', 'SCH_DEG', 'MAIN', 'HIGHDEG', 'ST_FIPS', 'ICLEVEL']#, 'CONTROL']\n",
    "\n",
    "Y_column = ['earning', 'cost']\n",
    "\n",
    "data = calculateC100(data)\n",
    "data = imputeNumeric(numeric_columns, data)\n",
    "data = fillMean(data)\n",
    "data = fillRace(data)\n",
    "data = fillIncome(data)\n",
    "data = fillUnemp(data)\n",
    "data = processCategorical(categorical_column, data)\n",
    "data.dropna(inplace=True)\n",
    "data = calculateROI(data)"
   ]
  },
  {
   "cell_type": "markdown",
   "metadata": {},
   "source": [
    "## Linear Model"
   ]
  },
  {
   "cell_type": "code",
   "execution_count": null,
   "metadata": {},
   "outputs": [
    {
     "data": {
      "text/plain": [
       "[('UG_AIANOLD', 42.236918974779464),\n",
       " ('UG_HISPOLD', 41.54238516855695),\n",
       " ('UG_API', 41.29448697157282),\n",
       " ('UG_WHITENH', 41.07676395150383),\n",
       " ('UG_BLACKNH', 40.884113056165),\n",
       " ('UG_UNKN', 40.39352660479426),\n",
       " ('UG_NRA', 39.05106325549261),\n",
       " ('ICLEVEL', 0.34745090711101084),\n",
       " ('PFTFAC', 0.06926663134545404),\n",
       " ('HIGHDEG', 0.06265812756961989),\n",
       " ('ADM_RATE', 0.027721241403698547),\n",
       " ('LATITUDE', 0.0015110142457203319),\n",
       " ('ST_FIPS', 0.0007116712587853755),\n",
       " ('SAT_AVG', 0.00023069909662947342),\n",
       " ('LOCALE', 6.465445170345758e-05),\n",
       " ('AVGFACSAL', 5.1409472726589836e-05),\n",
       " ('UG', 2.543272878398211e-05),\n",
       " ('MEDIAN_HH_INC', -8.386895060977594e-06),\n",
       " ('LONGITUDE', -0.0050426082626804595),\n",
       " ('NUMBRANCH', -0.01591807243524326),\n",
       " ('UNEMP_RATE', -0.04907594107393445),\n",
       " ('REGION', -0.04959114716960523),\n",
       " ('SCH_DEG', -0.397048465240461),\n",
       " ('MAIN', -0.69060886099352),\n",
       " ('C100_4', -1.1074733258141374),\n",
       " ('UGDS_MEN', -1962.144644204354),\n",
       " ('UGDS_WOMEN', -1962.249786172121)]"
      ]
     },
     "execution_count": 7,
     "metadata": {},
     "output_type": "execute_result"
    }
   ],
   "source": [
    "from sklearn.linear_model import LinearRegression\n",
    "\n",
    "X = data.drop('ROI', 1)\n",
    "y = data['ROI']\n",
    "linear = LinearRegression()\n",
    "linear = linear.fit(X, y)\n",
    "coef = linear.coef_\n",
    "\n",
    "feature_dict = dict(zip(data.columns, coef))\n",
    "feature_dict = sorted(feature_dict.items(), key=operator.itemgetter(1), reverse=1)\n",
    "feature_dict"
   ]
  },
  {
   "cell_type": "markdown",
   "metadata": {},
   "source": [
    "## Gradient Boosting Model"
   ]
  },
  {
   "cell_type": "code",
   "execution_count": null,
   "metadata": {
    "scrolled": false
   },
   "outputs": [
    {
     "data": {
      "text/plain": [
       "[('UG', 0.2646019075378572),\n",
       " ('C100_4', 0.166084834479933),\n",
       " ('REGION', 0.13327748154396898),\n",
       " ('MAIN', 0.0640217538175726),\n",
       " ('MEDIAN_HH_INC', 0.04394368935811733),\n",
       " ('UG_NRA', 0.036530523760220125),\n",
       " ('LONGITUDE', 0.03478276741763144),\n",
       " ('UGDS_MEN', 0.03383207648179556),\n",
       " ('AVGFACSAL', 0.02887018806984351),\n",
       " ('UG_UNKN', 0.02603771237868174),\n",
       " ('UG_AIANOLD', 0.025543728315320202),\n",
       " ('UGDS_WOMEN', 0.024665748452932505),\n",
       " ('UG_BLACKNH', 0.022303229316099925),\n",
       " ('SCH_DEG', 0.02180260377745126),\n",
       " ('UG_API', 0.01158449828664949),\n",
       " ('LATITUDE', 0.008636758026047162),\n",
       " ('UNEMP_RATE', 0.008181305474910916),\n",
       " ('UG_WHITENH', 0.008129119847147552),\n",
       " ('PFTFAC', 0.00792078723844429),\n",
       " ('ADM_RATE', 0.007180615543426526),\n",
       " ('HIGHDEG', 0.005994017233357978),\n",
       " ('SAT_AVG', 0.0056016424365408065),\n",
       " ('UG_HISPOLD', 0.00495781543157282),\n",
       " ('ST_FIPS', 0.002540752361699047),\n",
       " ('NUMBRANCH', 0.001480820789017637),\n",
       " ('LOCALE', 0.0008326502646306702),\n",
       " ('ICLEVEL', 0.0006609723591298179)]"
      ]
     },
     "execution_count": 8,
     "metadata": {},
     "output_type": "execute_result"
    }
   ],
   "source": [
    "from sklearn.ensemble import GradientBoostingRegressor\n",
    "\n",
    "X = data.drop('ROI', 1)\n",
    "y = data['ROI']\n",
    "gbm = GradientBoostingRegressor()\n",
    "gbm = gbm.fit(X, y)\n",
    "importance = gbm.feature_importances_\n",
    "\n",
    "feature_dict = dict(zip(data.columns, importance))\n",
    "feature_dict = sorted(feature_dict.items(), key=operator.itemgetter(1), reverse=1)\n",
    "feature_dict"
   ]
  },
  {
   "cell_type": "code",
   "execution_count": null,
   "metadata": {},
   "outputs": [],
   "source": [
    "import lightgbm as lgb\n",
    "\n",
    "X = data.drop('ROI', 1)\n",
    "y = data['ROI']\n",
    "gbm = lgb.LGBMRegressor()\n",
    "gbm = gbm.fit(X, y)\n",
    "importance = gbm.feature_importances_"
   ]
  },
  {
   "cell_type": "code",
   "execution_count": null,
   "metadata": {},
   "outputs": [],
   "source": []
  }
 ],
 "metadata": {
  "kernelspec": {
   "display_name": "Python [conda env:NLP]",
   "language": "python",
   "name": "conda-env-NLP-py"
  },
  "language_info": {
   "codemirror_mode": {
    "name": "ipython",
    "version": 3
   },
   "file_extension": ".py",
   "mimetype": "text/x-python",
   "name": "python",
   "nbconvert_exporter": "python",
   "pygments_lexer": "ipython3",
   "version": "3.7.1"
  }
 },
 "nbformat": 4,
 "nbformat_minor": 2
}
