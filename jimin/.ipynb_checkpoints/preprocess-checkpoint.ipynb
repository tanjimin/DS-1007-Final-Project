{
 "cells": [
  {
   "cell_type": "code",
   "execution_count": 3,
   "metadata": {},
   "outputs": [],
   "source": [
    "import pandas as pd\n",
    "import numpy as np\n",
    "import matplotlib.pyplot as plt\n",
    "%matplotlib inline"
   ]
  },
  {
   "cell_type": "code",
   "execution_count": 23,
   "metadata": {},
   "outputs": [],
   "source": [
    "def cleanColumn(column, data):\n",
    "    if type(data[column][0]) == type('.'):\n",
    "        data[column][data[column] == 'PrivacySuppressed'] = np.nan\n",
    "    return data[column]\n",
    "\n",
    "def cleanData(data):\n",
    "    for column in data.columns:\n",
    "        data[column] = cleanColumn(column, data)\n",
    "    return data"
   ]
  },
  {
   "cell_type": "code",
   "execution_count": 108,
   "metadata": {},
   "outputs": [],
   "source": [
    "path = '/Users/leo/Desktop/DSGA_1007/Project/'"
   ]
  },
  {
   "cell_type": "code",
   "execution_count": 109,
   "metadata": {},
   "outputs": [],
   "source": [
    "data = pd.read_csv(path+'ROI.csv')"
   ]
  },
  {
   "cell_type": "code",
   "execution_count": 110,
   "metadata": {},
   "outputs": [
    {
     "data": {
      "text/plain": [
       "(7175, 39)"
      ]
     },
     "execution_count": 110,
     "metadata": {},
     "output_type": "execute_result"
    }
   ],
   "source": [
    "data.shape"
   ]
  },
  {
   "cell_type": "code",
   "execution_count": 111,
   "metadata": {},
   "outputs": [
    {
     "data": {
      "text/plain": [
       "Unnamed: 0             0\n",
       "COMPL_RPY_1YR_RT    1092\n",
       "COMPL_RPY_3YR_RT     893\n",
       "COMPL_RPY_5YR_RT    1012\n",
       "COMPL_RPY_7YR_RT    1295\n",
       "C100_4              5028\n",
       "C100_L4             3590\n",
       "DEBT_MDN_SUPP         19\n",
       "GRAD_DEBT_MDN         19\n",
       "DEBT_N                19\n",
       "GRAD_DEBT_N           19\n",
       "LATITUDE             438\n",
       "LONGITUDE            438\n",
       "REGION                 0\n",
       "LOCALE               438\n",
       "ACCREDAGENCY         493\n",
       "SCH_DEG              308\n",
       "MAIN                   0\n",
       "NUMBRANCH              0\n",
       "HIGHDEG                0\n",
       "CONTROL                0\n",
       "ST_FIPS                0\n",
       "AVGFACSAL           2908\n",
       "PFTFAC              3421\n",
       "ICLEVEL                0\n",
       "UG                  2705\n",
       "UG_NRA              2705\n",
       "UG_UNKN             2705\n",
       "UG_WHITENH          2705\n",
       "UG_BLACKNH          2705\n",
       "UG_API              2705\n",
       "UG_AIANOLD          2705\n",
       "UG_HISPOLD          2705\n",
       "MEDIAN_HH_INC       2033\n",
       "UNEMP_RATE          2033\n",
       "UGDS_MEN             728\n",
       "UGDS_WOMEN           728\n",
       "cost                1203\n",
       "earning             1084\n",
       "dtype: int64"
      ]
     },
     "execution_count": 111,
     "metadata": {},
     "output_type": "execute_result"
    }
   ],
   "source": [
    "data.isna().sum()"
   ]
  },
  {
   "cell_type": "code",
   "execution_count": 204,
   "metadata": {
    "scrolled": true
   },
   "outputs": [
    {
     "name": "stderr",
     "output_type": "stream",
     "text": [
      "/anaconda3/lib/python3.6/site-packages/ipykernel/__main__.py:3: SettingWithCopyWarning: \n",
      "A value is trying to be set on a copy of a slice from a DataFrame\n",
      "\n",
      "See the caveats in the documentation: http://pandas.pydata.org/pandas-docs/stable/indexing.html#indexing-view-versus-copy\n",
      "  app.launch_new_instance()\n"
     ]
    }
   ],
   "source": [
    "data = cleanData(data)"
   ]
  },
  {
   "cell_type": "code",
   "execution_count": 113,
   "metadata": {},
   "outputs": [],
   "source": [
    "## AvgFaclSal use mean of the column"
   ]
  },
  {
   "cell_type": "code",
   "execution_count": 114,
   "metadata": {},
   "outputs": [
    {
     "data": {
      "text/plain": [
       "6482.619404734005"
      ]
     },
     "execution_count": 114,
     "metadata": {},
     "output_type": "execute_result"
    }
   ],
   "source": [
    "data['AVGFACSAL'].mean()"
   ]
  },
  {
   "cell_type": "code",
   "execution_count": 136,
   "metadata": {},
   "outputs": [],
   "source": [
    "data['AVGFACSAL'].fillna((data['AVGFACSAL'].mean()), inplace=True)\n",
    "data['UG'].fillna((data['UG'].mean()), inplace=True)\n",
    "data['PFTFAC'].fillna((data['PFTFAC'].mean()), inplace=True)"
   ]
  },
  {
   "cell_type": "code",
   "execution_count": 116,
   "metadata": {},
   "outputs": [],
   "source": [
    "##HISP: Hispanic students rose from 4 percent to 17 percent \n",
    "# API: Asian/Pacific Islander students rose from 2 percent to 7 percent\n",
    "# Black: The percentage of Black students increased from 10 percent in 1976 to 14 percent in 2015\n",
    "# White: 58%"
   ]
  },
  {
   "cell_type": "code",
   "execution_count": 117,
   "metadata": {},
   "outputs": [],
   "source": [
    "data['UG_NRA'].fillna(0.01, inplace=True)"
   ]
  },
  {
   "cell_type": "code",
   "execution_count": 118,
   "metadata": {},
   "outputs": [],
   "source": [
    "data['UG_WHITENH'].fillna(0.58, inplace=True)"
   ]
  },
  {
   "cell_type": "code",
   "execution_count": 119,
   "metadata": {},
   "outputs": [],
   "source": [
    "data['UG_BLACKNH'].fillna(0.14, inplace=True)"
   ]
  },
  {
   "cell_type": "code",
   "execution_count": 120,
   "metadata": {},
   "outputs": [],
   "source": [
    "data['UG_API'].fillna(0.035, inplace=True)"
   ]
  },
  {
   "cell_type": "code",
   "execution_count": 121,
   "metadata": {},
   "outputs": [],
   "source": [
    "data['UG_AIANOLD'].fillna(0.035, inplace=True)"
   ]
  },
  {
   "cell_type": "code",
   "execution_count": 122,
   "metadata": {},
   "outputs": [],
   "source": [
    "data['UG_HISPOLD'].fillna(0.17, inplace=True)"
   ]
  },
  {
   "cell_type": "code",
   "execution_count": 123,
   "metadata": {},
   "outputs": [],
   "source": [
    "data['UG_UNKN'].fillna((1 - data['UG_NRA'] - data['UG_WHITENH'] - data['UG_BLACKNH'] - data['UG_API'] - data['UG_AIANOLD'] - data['UG_HISPOLD']),inplace=True)"
   ]
  },
  {
   "cell_type": "code",
   "execution_count": 180,
   "metadata": {},
   "outputs": [],
   "source": [
    "income = {1: 44765, 2:73355, 4: 51492, 5: 41995, 6:64500, 8:63909, 9:71346,\n",
    "          10:61255, 11:75628,12: 49426, 13: 51244, 15: 73486, 16: 48275, \n",
    "          17:59588, 18: 50532, 19:54736, 20: 53906, 21: 45215, 22:45727,\n",
    "         23:51494, 24:75847, 25:70628 , 26:51084, 27:63488,\n",
    "         28: 40593, 29:50238, 30:49509, 31:54996, 32:52431,\n",
    "         33: 70303, 34:72222, 35: 45382, 36:60850, 37:47830,\n",
    "         38: 60577, 39:51075, 40:48568, 41:54148, 42:55702,\n",
    "         44: 58073, 45:47238, 46: 53017, 47: 47275, 48:55653,\n",
    "         49: 62912, 50: 56990, 51: 66262, 53:64129, 54:42019,\n",
    "         55: 55638, 56: 60214}"
   ]
  },
  {
   "cell_type": "code",
   "execution_count": 188,
   "metadata": {},
   "outputs": [],
   "source": [
    "data['ST_FIPS'] = data['ST_FIPS'].astype(float)"
   ]
  },
  {
   "cell_type": "code",
   "execution_count": 164,
   "metadata": {},
   "outputs": [],
   "source": [
    "data['MEDIAN_HH_INC'].fillna(data.ST_FIPS.map(income), inplace=True)"
   ]
  },
  {
   "cell_type": "code",
   "execution_count": 175,
   "metadata": {},
   "outputs": [],
   "source": [
    "data['MEDIAN_HH_INC'].fillna(data['MEDIAN_HH_INC'].mean(), inplace=True)"
   ]
  },
  {
   "cell_type": "code",
   "execution_count": 182,
   "metadata": {},
   "outputs": [],
   "source": [
    "unemp = {1: 3.8, 2:7.3, 4: 4.9, 5: 3.8, 6:4.3, 8:3.0, 9:4.5, \n",
    "         10:4.3, 11:5.6,12: 3.9, 13: 4.4, 15: 2.1, 16: 2.9, 17:4.6, \n",
    "         18: 3.2, 19:2.8, 20: 3.4, 21: 4.0, 22:4.4,\n",
    "         23:2.7, 24:4.3, 25:3.5 , 26:4.7, 27:3.2,\n",
    "         28: 4.5, 29:3.6, 30:4.1, 31:2.8, 32:4.9,\n",
    "         33: 2.6, 34:4.6, 35: 5.6, 36:4.6, 37:4.5,\n",
    "         38: 2.6, 39:4.4, 40:4.0, 41:4.1, 42:4.8,\n",
    "         44: 4.5, 45:4.4, 46: 3.4, 47: 3.4, 48:4.0,\n",
    "         49: 3.1, 50: 2.8, 51: 3.4, 53:4.8, 54:5.4,\n",
    "         55: 2.9, 56: 3.9, 60:18, 66:4.4, 69:11.2, 72:8.8, 78:9.2}"
   ]
  },
  {
   "cell_type": "code",
   "execution_count": 189,
   "metadata": {},
   "outputs": [],
   "source": [
    "data['UNEMP_RATE'].fillna(data.ST_FIPS.map(unemp), inplace=True)"
   ]
  },
  {
   "cell_type": "code",
   "execution_count": 199,
   "metadata": {},
   "outputs": [],
   "source": [
    "data['UNEMP_RATE'] = data['UNEMP_RATE'].astype(float)"
   ]
  },
  {
   "cell_type": "code",
   "execution_count": 200,
   "metadata": {},
   "outputs": [],
   "source": [
    "data['UNEMP_RATE'].fillna(data['UNEMP_RATE'].mean(), inplace=True)"
   ]
  },
  {
   "cell_type": "code",
   "execution_count": 202,
   "metadata": {},
   "outputs": [],
   "source": [
    "data['UGDS_MEN'].fillna((data['UGDS_MEN'].mean()), inplace=True)\n",
    "data['UGDS_WOMEN'].fillna((data['UGDS_WOMEN'].mean()), inplace=True)"
   ]
  },
  {
   "cell_type": "code",
   "execution_count": 205,
   "metadata": {},
   "outputs": [
    {
     "data": {
      "text/plain": [
       "Unnamed: 0             0\n",
       "COMPL_RPY_1YR_RT    2319\n",
       "COMPL_RPY_3YR_RT    2063\n",
       "COMPL_RPY_5YR_RT    2246\n",
       "COMPL_RPY_7YR_RT    2642\n",
       "C100_4              5028\n",
       "C100_L4             3590\n",
       "DEBT_MDN_SUPP       1122\n",
       "GRAD_DEBT_MDN       1418\n",
       "DEBT_N               901\n",
       "GRAD_DEBT_N         1316\n",
       "LATITUDE             438\n",
       "LONGITUDE            438\n",
       "REGION                 0\n",
       "LOCALE               438\n",
       "ACCREDAGENCY         493\n",
       "SCH_DEG              308\n",
       "MAIN                   0\n",
       "NUMBRANCH              0\n",
       "HIGHDEG                0\n",
       "CONTROL                0\n",
       "ST_FIPS                0\n",
       "AVGFACSAL              0\n",
       "PFTFAC                 0\n",
       "ICLEVEL                0\n",
       "UG                     0\n",
       "UG_NRA                 0\n",
       "UG_UNKN                0\n",
       "UG_WHITENH             0\n",
       "UG_BLACKNH             0\n",
       "UG_API                 0\n",
       "UG_AIANOLD             0\n",
       "UG_HISPOLD             0\n",
       "MEDIAN_HH_INC          0\n",
       "UNEMP_RATE             0\n",
       "UGDS_MEN               0\n",
       "UGDS_WOMEN             0\n",
       "cost                1203\n",
       "earning             3899\n",
       "dtype: int64"
      ]
     },
     "execution_count": 205,
     "metadata": {},
     "output_type": "execute_result"
    }
   ],
   "source": [
    "data.isna().sum()"
   ]
  }
 ],
 "metadata": {
  "kernelspec": {
   "display_name": "Python 3",
   "language": "python",
   "name": "python3"
  },
  "language_info": {
   "codemirror_mode": {
    "name": "ipython",
    "version": 3
   },
   "file_extension": ".py",
   "mimetype": "text/x-python",
   "name": "python",
   "nbconvert_exporter": "python",
   "pygments_lexer": "ipython3",
   "version": "3.7.1"
  }
 },
 "nbformat": 4,
 "nbformat_minor": 2
}
