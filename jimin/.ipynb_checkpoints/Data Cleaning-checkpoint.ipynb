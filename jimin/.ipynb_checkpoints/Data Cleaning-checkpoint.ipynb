{
 "cells": [
  {
   "cell_type": "code",
   "execution_count": 50,
   "metadata": {},
   "outputs": [],
   "source": [
    "import pandas as pd\n",
    "import numpy as np\n",
    "import pickle as pkl"
   ]
  },
  {
   "cell_type": "code",
   "execution_count": 37,
   "metadata": {},
   "outputs": [],
   "source": [
    "def normalizeColumn(column, data):\n",
    "    if isinstance(data[column][0], numbers.Number):\n",
    "        return [float(i)/sum(data[column].values) for i in data[column].values]\n",
    "    else:\n",
    "        return data[column]\n",
    "\n",
    "def normalizeData(data):\n",
    "    for column in data.columns:\n",
    "        data[column] = normalizeColumn(column, data)\n",
    "    return data\n",
    "\n",
    "def cleanColumn(column, data):\n",
    "    if type(data[column][0]) == type('.'):\n",
    "        data[column][data[column] == 'PrivacySuppressed'] = np.nan\n",
    "    return data[column]\n",
    "\n",
    "def cleanData(data):\n",
    "    for column in data.columns:\n",
    "        data[column] = cleanColumn(column, data)\n",
    "    return data"
   ]
  },
  {
   "cell_type": "code",
   "execution_count": 38,
   "metadata": {},
   "outputs": [],
   "source": [
    "def imputeValue(column, data):\n",
    "    column_data = pd.to_numeric(data[column])\n",
    "    column_mean = column_data.mean()\n",
    "    for i, row in enumerate(column_data):\n",
    "        if np.isnan(row):\n",
    "            column_data.iloc[i] = column_mean\n",
    "    return column_data\n",
    "\n",
    "def imputeNumeric(columns, data):\n",
    "    for column in columns:\n",
    "        data[column] = imputeValue(column, data)\n",
    "    return data\n",
    "\n",
    "def processCategorical(columns, data):\n",
    "    for column in columns:\n",
    "        data[column] = data[column].astype('category')\n",
    "    return data"
   ]
  },
  {
   "cell_type": "code",
   "execution_count": 39,
   "metadata": {},
   "outputs": [],
   "source": [
    "data = pd.read_csv('./ROI.csv')"
   ]
  },
  {
   "cell_type": "code",
   "execution_count": 40,
   "metadata": {
    "scrolled": false
   },
   "outputs": [
    {
     "name": "stderr",
     "output_type": "stream",
     "text": [
      "/anaconda3/envs/NLP/lib/python3.7/site-packages/ipykernel_launcher.py:14: SettingWithCopyWarning: \n",
      "A value is trying to be set on a copy of a slice from a DataFrame\n",
      "\n",
      "See the caveats in the documentation: http://pandas.pydata.org/pandas-docs/stable/indexing.html#indexing-view-versus-copy\n",
      "  \n"
     ]
    }
   ],
   "source": [
    "data = cleanData(data)"
   ]
  },
  {
   "cell_type": "code",
   "execution_count": 41,
   "metadata": {},
   "outputs": [],
   "source": [
    "target_C100 = []\n",
    "\n",
    "C100_4 = data['C100_4']\n",
    "C100_L4 = data['C100_L4']\n",
    "\n",
    "data = data.drop(['C100_4', 'C100_L4'], 1)\n",
    "\n",
    "for i in range(len(C100_4)):\n",
    "    if not np.isnan(C100_4[i]):\n",
    "        if not np.isnan(C100_L4[i]):\n",
    "            raise Exception('No school is like this')\n",
    "        target_C100.append(C100_4[i])\n",
    "    else:\n",
    "        target_C100.append(C100_L4[i])\n",
    "        \n",
    "data['C100_4'] = target_C100"
   ]
  },
  {
   "cell_type": "code",
   "execution_count": 44,
   "metadata": {},
   "outputs": [],
   "source": [
    "numeric_columns = ['COMPL_RPY_1YR_RT', 'COMPL_RPY_3YR_RT', 'COMPL_RPY_5YR_RT', \n",
    "                   'COMPL_RPY_7YR_RT', 'DEBT_MDN_SUPP', 'GRAD_DEBT_MDN', 'DEBT_N', \n",
    "                   'GRAD_DEBT_N', 'LATITUDE', 'LONGITUDE', 'NUMBRANCH']\n",
    "\n",
    "categorical_column = ['REGION', 'LOCALE', 'SCH_DEG', 'MAIN', 'HIGHDEG', 'CONTROL', 'ST_FIPS']\n",
    "\n",
    "Y_column = ['earning', 'cost']\n",
    "\n",
    "data = imputeNumeric(numeric_columns, data)\n",
    "data = processCategorical(categorical_column, data)"
   ]
  },
  {
   "cell_type": "code",
   "execution_count": 45,
   "metadata": {},
   "outputs": [],
   "source": [
    "test_column = []\n",
    "test_column.extend(numeric_columns)\n",
    "test_column.extend(categorical_column)\n",
    "test_column.extend(Y_column)\n",
    "data_test = data[test_column]"
   ]
  },
  {
   "cell_type": "code",
   "execution_count": 52,
   "metadata": {},
   "outputs": [],
   "source": [
    "pkl.dump(data_test, open(\"data_test.p\", \"wb\"))"
   ]
  },
  {
   "cell_type": "code",
   "execution_count": 49,
   "metadata": {},
   "outputs": [
    {
     "data": {
      "text/plain": [
       "0       1\n",
       "1       1\n",
       "2       1\n",
       "3       1\n",
       "4       1\n",
       "5       1\n",
       "6       1\n",
       "7       1\n",
       "8       1\n",
       "9       1\n",
       "10      1\n",
       "11      1\n",
       "12      1\n",
       "13      0\n",
       "14      1\n",
       "15      1\n",
       "16      1\n",
       "17      1\n",
       "18      1\n",
       "19      1\n",
       "20      1\n",
       "21      1\n",
       "22      0\n",
       "23      1\n",
       "24      1\n",
       "25      1\n",
       "26      1\n",
       "27      1\n",
       "28      1\n",
       "29      1\n",
       "       ..\n",
       "7145    0\n",
       "7146    0\n",
       "7147    0\n",
       "7148    0\n",
       "7149    0\n",
       "7150    0\n",
       "7151    0\n",
       "7152    0\n",
       "7153    0\n",
       "7154    0\n",
       "7155    0\n",
       "7156    0\n",
       "7157    0\n",
       "7158    0\n",
       "7159    0\n",
       "7160    0\n",
       "7161    0\n",
       "7162    0\n",
       "7163    0\n",
       "7164    0\n",
       "7165    0\n",
       "7166    0\n",
       "7167    0\n",
       "7168    0\n",
       "7169    0\n",
       "7170    0\n",
       "7171    0\n",
       "7172    0\n",
       "7173    0\n",
       "7174    0\n",
       "Name: MAIN, Length: 7175, dtype: category\n",
       "Categories (2, int64): [0, 1]"
      ]
     },
     "execution_count": 49,
     "metadata": {},
     "output_type": "execute_result"
    }
   ],
   "source": [
    "data_test['MAIN']"
   ]
  },
  {
   "cell_type": "code",
   "execution_count": null,
   "metadata": {},
   "outputs": [],
   "source": []
  }
 ],
 "metadata": {
  "kernelspec": {
   "display_name": "Python 3",
   "language": "python",
   "name": "python3"
  },
  "language_info": {
   "codemirror_mode": {
    "name": "ipython",
    "version": 3
   },
   "file_extension": ".py",
   "mimetype": "text/x-python",
   "name": "python",
   "nbconvert_exporter": "python",
   "pygments_lexer": "ipython3",
   "version": "3.7.1"
  }
 },
 "nbformat": 4,
 "nbformat_minor": 2
}
